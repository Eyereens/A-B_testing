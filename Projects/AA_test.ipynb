{
 "cells": [
  {
   "cell_type": "code",
   "execution_count": 2,
   "id": "31422705-8f62-45ef-b02f-74b3c3df6f91",
   "metadata": {},
   "outputs": [],
   "source": [
    "import pandahouse\n",
    "import pandas as pd\n",
    "import seaborn as sns\n",
    "import matplotlib.pyplot as plt\n",
    "import numpy as np\n",
    "import hashlib\n",
    "#import swifter\n",
    "from scipy import stats\n",
    "\n",
    "%matplotlib inline"
   ]
  },
  {
   "cell_type": "code",
   "execution_count": 3,
   "id": "7fbb9cc4-2a90-4d33-9ecc-7440f21afa32",
   "metadata": {},
   "outputs": [],
   "source": [
    "connection = {\n",
    "    'host': 'https://clickhouse.lab.karpov.courses',\n",
    "    'password': '________',\n",
    "    'user': 'student',\n",
    "    'database': 'simulator_20220920'\n",
    "}"
   ]
  },
  {
   "cell_type": "code",
   "execution_count": 4,
   "id": "6e350d19-959f-409a-a39d-bbdec8e05b53",
   "metadata": {},
   "outputs": [
    {
     "data": {
      "text/html": [
       "<div>\n",
       "<style scoped>\n",
       "    .dataframe tbody tr th:only-of-type {\n",
       "        vertical-align: middle;\n",
       "    }\n",
       "\n",
       "    .dataframe tbody tr th {\n",
       "        vertical-align: top;\n",
       "    }\n",
       "\n",
       "    .dataframe thead th {\n",
       "        text-align: right;\n",
       "    }\n",
       "</style>\n",
       "<table border=\"1\" class=\"dataframe\">\n",
       "  <thead>\n",
       "    <tr style=\"text-align: right;\">\n",
       "      <th></th>\n",
       "      <th>uniqExact(user_id)</th>\n",
       "    </tr>\n",
       "  </thead>\n",
       "  <tbody>\n",
       "    <tr>\n",
       "      <th>0</th>\n",
       "      <td>68057</td>\n",
       "    </tr>\n",
       "  </tbody>\n",
       "</table>\n",
       "</div>"
      ],
      "text/plain": [
       "   uniqExact(user_id)\n",
       "0               68057"
      ]
     },
     "execution_count": 4,
     "metadata": {},
     "output_type": "execute_result"
    }
   ],
   "source": [
    "q = \"\"\"\n",
    "SELECT uniqExact(user_id)\n",
    "FROM {db}.feed_actions \n",
    "WHERE toDate(time) >= '2022-09-21' and toDate(time) <= '2022-09-27' \n",
    "\"\"\"\n",
    "\n",
    "pandahouse.read_clickhouse(q, connection=connection)"
   ]
  },
  {
   "cell_type": "code",
   "execution_count": 5,
   "id": "6c611359-b55a-4c32-bc54-f5f96e322c9d",
   "metadata": {},
   "outputs": [],
   "source": [
    "q = \"\"\"\n",
    "SELECT exp_group, \n",
    "    user_id,\n",
    "    sum(action = 'like') as likes,\n",
    "    sum(action = 'view') as views,\n",
    "    likes/views as ctr\n",
    "FROM {db}.feed_actions \n",
    "WHERE toDate(time) between '2022-08-27' and '2022-09-02'\n",
    "    and exp_group in (2,3)\n",
    "GROUP BY exp_group, user_id\n",
    "\"\"\"\n",
    "\n",
    "df = pandahouse.read_clickhouse(q, connection=connection)"
   ]
  },
  {
   "cell_type": "code",
   "execution_count": 6,
   "id": "a2f4bc31-d8cf-4c0e-8fbb-fa256d1b2af6",
   "metadata": {},
   "outputs": [
    {
     "data": {
      "image/png": "[encoded data removed]",
      "text/plain": [
       "<Figure size 842.4x595.44 with 1 Axes>"
      ]
     },
     "metadata": {},
     "output_type": "display_data"
    }
   ],
   "source": [
    "# Проверяем общие данные\n",
    "sns.set(rc={'figure.figsize':(11.7,8.27)})\n",
    "\n",
    "groups = sns.histplot(data = df, \n",
    "              x='ctr', \n",
    "              hue='exp_group', \n",
    "              palette = ['r', 'b'],\n",
    "              alpha=0.5,\n",
    "              kde=False)"
   ]
  },
  {
   "cell_type": "code",
   "execution_count": 7,
   "id": "fb7c2656-f73a-4f8a-8e94-abb273e83e46",
   "metadata": {},
   "outputs": [
    {
     "data": {
      "text/plain": [
       "Ttest_indResult(statistic=-0.7393597924958364, pvalue=0.45969873156476293)"
      ]
     },
     "execution_count": 7,
     "metadata": {},
     "output_type": "execute_result"
    }
   ],
   "source": [
    "stats.ttest_ind(df[df.exp_group == 2].ctr,\n",
    "                df[df.exp_group == 3].ctr,\n",
    "                equal_var=False)"
   ]
  },
  {
   "cell_type": "code",
   "execution_count": 8,
   "id": "a5c447cf-2830-4456-8a00-03ee2c49d3a7",
   "metadata": {},
   "outputs": [
    {
     "data": {
      "text/html": [
       "<div>\n",
       "<style scoped>\n",
       "    .dataframe tbody tr th:only-of-type {\n",
       "        vertical-align: middle;\n",
       "    }\n",
       "\n",
       "    .dataframe tbody tr th {\n",
       "        vertical-align: top;\n",
       "    }\n",
       "\n",
       "    .dataframe thead th {\n",
       "        text-align: right;\n",
       "    }\n",
       "</style>\n",
       "<table border=\"1\" class=\"dataframe\">\n",
       "  <thead>\n",
       "    <tr style=\"text-align: right;\">\n",
       "      <th></th>\n",
       "      <th>exp_group</th>\n",
       "      <th>2</th>\n",
       "      <th>3</th>\n",
       "    </tr>\n",
       "  </thead>\n",
       "  <tbody>\n",
       "    <tr>\n",
       "      <th rowspan=\"4\" valign=\"top\">user_id</th>\n",
       "      <th>mean</th>\n",
       "      <td>69282.76698</td>\n",
       "      <td>69522.30552</td>\n",
       "    </tr>\n",
       "    <tr>\n",
       "      <th>std</th>\n",
       "      <td>53428.42110</td>\n",
       "      <td>53281.22962</td>\n",
       "    </tr>\n",
       "    <tr>\n",
       "      <th>count</th>\n",
       "      <td>8480.00000</td>\n",
       "      <td>8569.00000</td>\n",
       "    </tr>\n",
       "    <tr>\n",
       "      <th>sem</th>\n",
       "      <td>580.19558</td>\n",
       "      <td>575.58460</td>\n",
       "    </tr>\n",
       "    <tr>\n",
       "      <th rowspan=\"4\" valign=\"top\">likes</th>\n",
       "      <th>mean</th>\n",
       "      <td>15.53420</td>\n",
       "      <td>15.61279</td>\n",
       "    </tr>\n",
       "    <tr>\n",
       "      <th>std</th>\n",
       "      <td>10.81464</td>\n",
       "      <td>10.66322</td>\n",
       "    </tr>\n",
       "    <tr>\n",
       "      <th>count</th>\n",
       "      <td>8480.00000</td>\n",
       "      <td>8569.00000</td>\n",
       "    </tr>\n",
       "    <tr>\n",
       "      <th>sem</th>\n",
       "      <td>0.11744</td>\n",
       "      <td>0.11519</td>\n",
       "    </tr>\n",
       "    <tr>\n",
       "      <th rowspan=\"4\" valign=\"top\">views</th>\n",
       "      <th>mean</th>\n",
       "      <td>73.49387</td>\n",
       "      <td>74.09768</td>\n",
       "    </tr>\n",
       "    <tr>\n",
       "      <th>std</th>\n",
       "      <td>48.33207</td>\n",
       "      <td>49.08130</td>\n",
       "    </tr>\n",
       "    <tr>\n",
       "      <th>count</th>\n",
       "      <td>8480.00000</td>\n",
       "      <td>8569.00000</td>\n",
       "    </tr>\n",
       "    <tr>\n",
       "      <th>sem</th>\n",
       "      <td>0.52485</td>\n",
       "      <td>0.53021</td>\n",
       "    </tr>\n",
       "    <tr>\n",
       "      <th rowspan=\"4\" valign=\"top\">ctr</th>\n",
       "      <th>mean</th>\n",
       "      <td>0.21825</td>\n",
       "      <td>0.21916</td>\n",
       "    </tr>\n",
       "    <tr>\n",
       "      <th>std</th>\n",
       "      <td>0.08064</td>\n",
       "      <td>0.08093</td>\n",
       "    </tr>\n",
       "    <tr>\n",
       "      <th>count</th>\n",
       "      <td>8480.00000</td>\n",
       "      <td>8569.00000</td>\n",
       "    </tr>\n",
       "    <tr>\n",
       "      <th>sem</th>\n",
       "      <td>0.00088</td>\n",
       "      <td>0.00087</td>\n",
       "    </tr>\n",
       "  </tbody>\n",
       "</table>\n",
       "</div>"
      ],
      "text/plain": [
       "exp_group                2            3\n",
       "user_id mean   69282.76698  69522.30552\n",
       "        std    53428.42110  53281.22962\n",
       "        count   8480.00000   8569.00000\n",
       "        sem      580.19558    575.58460\n",
       "likes   mean      15.53420     15.61279\n",
       "        std       10.81464     10.66322\n",
       "        count   8480.00000   8569.00000\n",
       "        sem        0.11744      0.11519\n",
       "views   mean      73.49387     74.09768\n",
       "        std       48.33207     49.08130\n",
       "        count   8480.00000   8569.00000\n",
       "        sem        0.52485      0.53021\n",
       "ctr     mean       0.21825      0.21916\n",
       "        std        0.08064      0.08093\n",
       "        count   8480.00000   8569.00000\n",
       "        sem        0.00088      0.00087"
      ]
     },
     "execution_count": 8,
     "metadata": {},
     "output_type": "execute_result"
    }
   ],
   "source": [
    "df.groupby('exp_group', as_index = False) \\\n",
    "    .agg(['mean', 'std', 'count', 'sem']).transpose() \\\n",
    "    .round(5)"
   ]
  },
  {
   "cell_type": "markdown",
   "id": "e44524f0-79fb-4173-9a9d-f869cae6c519",
   "metadata": {},
   "source": [
    "Метрики в группах 1 и 2 очень схожи. Наши выборки статистически эквивалентны (на первый взгляд). Смотрим дальше"
   ]
  },
  {
   "cell_type": "code",
   "execution_count": 9,
   "id": "86545388-728b-4bb3-9327-fff9169e4848",
   "metadata": {},
   "outputs": [],
   "source": [
    "df_1 = df.query('exp_group == 2')"
   ]
  },
  {
   "cell_type": "code",
   "execution_count": 10,
   "id": "4f8919be-9935-47da-acac-7e271355ec1c",
   "metadata": {},
   "outputs": [
    {
     "data": {
      "text/html": [
       "<div>\n",
       "<style scoped>\n",
       "    .dataframe tbody tr th:only-of-type {\n",
       "        vertical-align: middle;\n",
       "    }\n",
       "\n",
       "    .dataframe tbody tr th {\n",
       "        vertical-align: top;\n",
       "    }\n",
       "\n",
       "    .dataframe thead th {\n",
       "        text-align: right;\n",
       "    }\n",
       "</style>\n",
       "<table border=\"1\" class=\"dataframe\">\n",
       "  <thead>\n",
       "    <tr style=\"text-align: right;\">\n",
       "      <th></th>\n",
       "      <th>exp_group</th>\n",
       "      <th>user_id</th>\n",
       "      <th>likes</th>\n",
       "      <th>views</th>\n",
       "      <th>ctr</th>\n",
       "    </tr>\n",
       "  </thead>\n",
       "  <tbody>\n",
       "    <tr>\n",
       "      <th>2</th>\n",
       "      <td>2</td>\n",
       "      <td>131473</td>\n",
       "      <td>26</td>\n",
       "      <td>148</td>\n",
       "      <td>0.175676</td>\n",
       "    </tr>\n",
       "    <tr>\n",
       "      <th>3</th>\n",
       "      <td>2</td>\n",
       "      <td>23985</td>\n",
       "      <td>12</td>\n",
       "      <td>66</td>\n",
       "      <td>0.181818</td>\n",
       "    </tr>\n",
       "    <tr>\n",
       "      <th>4</th>\n",
       "      <td>2</td>\n",
       "      <td>24523</td>\n",
       "      <td>17</td>\n",
       "      <td>120</td>\n",
       "      <td>0.141667</td>\n",
       "    </tr>\n",
       "    <tr>\n",
       "      <th>5</th>\n",
       "      <td>2</td>\n",
       "      <td>24239</td>\n",
       "      <td>53</td>\n",
       "      <td>119</td>\n",
       "      <td>0.445378</td>\n",
       "    </tr>\n",
       "    <tr>\n",
       "      <th>7</th>\n",
       "      <td>2</td>\n",
       "      <td>14680</td>\n",
       "      <td>8</td>\n",
       "      <td>70</td>\n",
       "      <td>0.114286</td>\n",
       "    </tr>\n",
       "  </tbody>\n",
       "</table>\n",
       "</div>"
      ],
      "text/plain": [
       "   exp_group  user_id  likes  views       ctr\n",
       "2          2   131473     26    148  0.175676\n",
       "3          2    23985     12     66  0.181818\n",
       "4          2    24523     17    120  0.141667\n",
       "5          2    24239     53    119  0.445378\n",
       "7          2    14680      8     70  0.114286"
      ]
     },
     "execution_count": 10,
     "metadata": {},
     "output_type": "execute_result"
    }
   ],
   "source": [
    "df_1.head()"
   ]
  },
  {
   "cell_type": "code",
   "execution_count": 11,
   "id": "15ac5816-0c93-457a-bdc6-9d5c74868be0",
   "metadata": {},
   "outputs": [],
   "source": [
    "df_2 = df.query('exp_group == 3')"
   ]
  },
  {
   "cell_type": "code",
   "execution_count": 12,
   "id": "8e9b012a-0b19-43dc-80f5-48dc8dbbbaf6",
   "metadata": {},
   "outputs": [
    {
     "data": {
      "text/plain": [
       "16664    0.125000\n",
       "6118     0.178218\n",
       "1087     0.196429\n",
       "2373     0.215859\n",
       "16787    0.219512\n",
       "           ...   \n",
       "11097    0.200000\n",
       "16431    0.133333\n",
       "2337     0.163934\n",
       "1804     0.176471\n",
       "6383     0.213483\n",
       "Name: ctr, Length: 500, dtype: float64"
      ]
     },
     "execution_count": 12,
     "metadata": {},
     "output_type": "execute_result"
    }
   ],
   "source": [
    "df_1.sample(n=500, replace=False)['ctr']"
   ]
  },
  {
   "cell_type": "code",
   "execution_count": 13,
   "id": "7a77836d-6fa3-475a-8afb-b0daa0b7b44e",
   "metadata": {},
   "outputs": [],
   "source": [
    "# генерим выборки по 500 единиц из каждой группы и кидаем их в цикл с целью достать pvalue из t-теста\n",
    "i = 0\n",
    "p_values = []\n",
    "\n",
    "for i in range(10000):\n",
    "    r = stats.ttest_ind(df_1.sample(n=500, replace=False)['ctr'],\n",
    "                        df_2.sample(n=500, replace=False)['ctr'],\n",
    "                        equal_var=False)\n",
    "    i += 1\n",
    "\n",
    "    p_values.append(round(r[1], 3))"
   ]
  },
  {
   "cell_type": "code",
   "execution_count": 14,
   "id": "a5c93149-1df9-499d-8167-95a8036571f4",
   "metadata": {},
   "outputs": [
    {
     "data": {
      "text/plain": [
       "<AxesSubplot:ylabel='Count'>"
      ]
     },
     "execution_count": 14,
     "metadata": {},
     "output_type": "execute_result"
    },
    {
     "data": {
      "image/png": "[encoded data removed]",
      "text/plain": [
       "<Figure size 842.4x595.44 with 1 Axes>"
      ]
     },
     "metadata": {},
     "output_type": "display_data"
    }
   ],
   "source": [
    "# Строим гистограмму распределения получившихся 10000 p-values.\n",
    "\n",
    "sns.histplot(p_values)"
   ]
  },
  {
   "cell_type": "code",
   "execution_count": 16,
   "id": "e9a505ea-4216-402f-bfa0-8d4dedfa4625",
   "metadata": {},
   "outputs": [
    {
     "name": "stdout",
     "output_type": "stream",
     "text": [
      "4.9 % значений p values оказались меньше или равны 0.05\n"
     ]
    }
   ],
   "source": [
    "#2. Cчитаем какой процент p values оказался меньше либо равен 0.05\n",
    "\n",
    "p_values_check = 0.05\n",
    "count = 0\n",
    "for p_value in p_values:\n",
    "    if p_value <= p_values_check: \n",
    "        count += 1\n",
    "        \n",
    "print(count/10000*100, '% значений p values оказались меньше или равны 0.05')"
   ]
  },
  {
   "cell_type": "markdown",
   "id": "b6014299-9d4b-418a-ac56-2dc4687a933c",
   "metadata": {},
   "source": [
    "# Вывод по проведенному АА-тесту, корректно ли работает наша система сплитования.\n",
    "\n",
    "Исходя из данных наша система сплитования работает корректно. В ходе АА теста пользователи были поделены на группы, размер в них ~одинаков, показатели не отличаются. Ложных срабатываний меньше 5%, отличие не прокрасилось"
   ]
  }
 ],
 "metadata": {
  "kernelspec": {
   "display_name": "Python 3",
   "language": "python",
   "name": "python3"
  },
  "language_info": {
   "codemirror_mode": {
    "name": "ipython",
    "version": 3
   },
   "file_extension": ".py",
   "mimetype": "text/x-python",
   "name": "python",
   "nbconvert_exporter": "python",
   "pygments_lexer": "ipython3",
   "version": "3.8.8"
  }
 },
 "nbformat": 4,
 "nbformat_minor": 5
}
